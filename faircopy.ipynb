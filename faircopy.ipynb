{
 "cells": [
  {
   "cell_type": "code",
   "execution_count": 1,
   "id": "50ea556a-8d38-44ca-a866-b1e35bddd3a1",
   "metadata": {},
   "outputs": [],
   "source": [
    "from Univariate import Univariate"
   ]
  },
  {
   "cell_type": "code",
   "execution_count": 2,
   "id": "e7464b76-db93-4fe7-ab26-d12860c5939b",
   "metadata": {},
   "outputs": [],
   "source": [
    "obj=Univariate()"
   ]
  },
  {
   "cell_type": "code",
   "execution_count": 3,
   "id": "4d06f46a-9513-45d6-b8a8-b111534b930e",
   "metadata": {},
   "outputs": [],
   "source": [
    "import pandas as pd"
   ]
  },
  {
   "cell_type": "code",
   "execution_count": 4,
   "id": "89b018b9-8f6e-43af-9009-01a9131ddfb6",
   "metadata": {},
   "outputs": [],
   "source": [
    "dataset=pd.read_csv(\"Placement.csv\")"
   ]
  },
  {
   "cell_type": "code",
   "execution_count": 6,
   "id": "4e851f7c-e6c8-4cb1-9dd1-3a55d933c03c",
   "metadata": {},
   "outputs": [],
   "source": [
    "quan,qual=Univariate.quanQual(dataset)"
   ]
  },
  {
   "cell_type": "code",
   "execution_count": 7,
   "id": "487f2b57-444e-4a23-91f0-cca77d57dc67",
   "metadata": {},
   "outputs": [
    {
     "data": {
      "text/plain": [
       "['sl_no', 'ssc_p', 'hsc_p', 'degree_p', 'etest_p', 'mba_p', 'salary']"
      ]
     },
     "execution_count": 7,
     "metadata": {},
     "output_type": "execute_result"
    }
   ],
   "source": [
    "quan"
   ]
  },
  {
   "cell_type": "code",
   "execution_count": 8,
   "id": "f10ee5c7-1d72-4295-9096-5498a37d67b2",
   "metadata": {},
   "outputs": [
    {
     "data": {
      "text/plain": [
       "['gender',\n",
       " 'ssc_b',\n",
       " 'hsc_b',\n",
       " 'hsc_s',\n",
       " 'degree_t',\n",
       " 'workex',\n",
       " 'specialisation',\n",
       " 'status']"
      ]
     },
     "execution_count": 8,
     "metadata": {},
     "output_type": "execute_result"
    }
   ],
   "source": [
    "qual"
   ]
  },
  {
   "cell_type": "code",
   "execution_count": null,
   "id": "d324c8fb-683a-4c43-971b-38cf6e615f26",
   "metadata": {},
   "outputs": [],
   "source": []
  }
 ],
 "metadata": {
  "kernelspec": {
   "display_name": "Python 3 (ipykernel)",
   "language": "python",
   "name": "python3"
  },
  "language_info": {
   "codemirror_mode": {
    "name": "ipython",
    "version": 3
   },
   "file_extension": ".py",
   "mimetype": "text/x-python",
   "name": "python",
   "nbconvert_exporter": "python",
   "pygments_lexer": "ipython3",
   "version": "3.11.5"
  }
 },
 "nbformat": 4,
 "nbformat_minor": 5
}
